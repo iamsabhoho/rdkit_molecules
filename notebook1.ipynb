{
 "cells": [
  {
   "cell_type": "markdown",
   "metadata": {},
   "source": [
    "# RDKit Experiments\n",
    "***"
   ]
  },
  {
   "cell_type": "markdown",
   "metadata": {},
   "source": [
    "## What is [RDKit](http://rdkit.org)?\n",
    "RDkit is a collection of cheminformatics and machine learning software written in the Python and C++. In this notebook/blog, we will be using the language Python.\n",
    "\n",
    "Below are some imports from RDKit"
   ]
  },
  {
   "cell_type": "code",
   "execution_count": 1,
   "metadata": {
    "ExecuteTime": {
     "end_time": "2019-08-13T23:02:07.006074Z",
     "start_time": "2019-08-13T23:02:06.773235Z"
    }
   },
   "outputs": [],
   "source": [
    "from rdkit import Chem"
   ]
  },
  {
   "cell_type": "markdown",
   "metadata": {},
   "source": [
    "#### Creating molecules using RDKit\n",
    "using **MolFromSmiles**"
   ]
  },
  {
   "cell_type": "code",
   "execution_count": 2,
   "metadata": {
    "ExecuteTime": {
     "end_time": "2019-08-13T23:02:07.038083Z",
     "start_time": "2019-08-13T23:02:07.012741Z"
    }
   },
   "outputs": [],
   "source": [
    "mol = Chem.MolFromSmiles('Cc1cccc1')"
   ]
  },
  {
   "cell_type": "markdown",
   "metadata": {},
   "source": [
    "or from a sdf file (lots of mols): **SDMolSupplier**"
   ]
  },
  {
   "cell_type": "code",
   "execution_count": 3,
   "metadata": {
    "ExecuteTime": {
     "end_time": "2019-08-13T23:02:07.052029Z",
     "start_time": "2019-08-13T23:02:07.043830Z"
    }
   },
   "outputs": [],
   "source": [
    "suppl = Chem.SDMolSupplier('db/chembl_01.sdf')"
   ]
  },
  {
   "cell_type": "markdown",
   "metadata": {},
   "source": [
    "for more, visit https://www.rdkit.org/docs/GettingStartedInPython.html"
   ]
  },
  {
   "cell_type": "markdown",
   "metadata": {},
   "source": [
    "#### Displaying molecules\n",
    "After knowing how to create molecules using RDKit, I was curious how I could visualize them. The function below allows you to draw a 2D SVG molecule. \n",
    "\n",
    "###### reference: [RDKit in Jupyter Notebook](http://davies-lee.com/index.php/2018/10/06/rdkit-in-jupyter-notebooks/)"
   ]
  },
  {
   "cell_type": "code",
   "execution_count": 4,
   "metadata": {
    "ExecuteTime": {
     "end_time": "2019-08-13T23:02:07.124242Z",
     "start_time": "2019-08-13T23:02:07.056647Z"
    }
   },
   "outputs": [],
   "source": [
    "# imports \n",
    "from IPython.display import SVG\n",
    "from rdkit.Chem import rdDepictor as rdd\n",
    "from rdkit.Chem.Draw import rdMolDraw2D as draw2d\n",
    "\n",
    "def draw2D(x):\n",
    "    m = x\n",
    "    molSize = (450, 150)\n",
    "    mc = Chem.Mol(m.ToBinary())\n",
    "    if not mc.GetNumConformers():\n",
    "        rdd.Compute2DCoords(mc)\n",
    "    drawer = draw2d.MolDraw2DSVG(molSize[0],molSize[1])\n",
    "    drawer.DrawMolecule(mc)\n",
    "    drawer.FinishDrawing()\n",
    "    svg = drawer.GetDrawingText()\n",
    "    display(SVG(svg.replace('svg:','')))"
   ]
  },
  {
   "cell_type": "markdown",
   "metadata": {},
   "source": [
    "#### Similarity Search\n",
    "Speaking of RDKit, lots of people use this collection to do similarity search between molecules. \n",
    "There are several kinds of [similarity searches](https://en.wikipedia.org/wiki/Similarity_search), including Tanimoto, Dice, Cosine, Sokal, Russel... and more.\n",
    "\n",
    "In this section, we will be focusing on the Tanimoto Similarity using [RDKit](http://www.rdkit.org/docs/GettingStartedInPython.html#fingerprinting-and-molecular-similarity)\n",
    "\n",
    "First, let's import some modules we will need"
   ]
  },
  {
   "cell_type": "code",
   "execution_count": 5,
   "metadata": {
    "ExecuteTime": {
     "end_time": "2019-08-13T23:02:07.148390Z",
     "start_time": "2019-08-13T23:02:07.130758Z"
    }
   },
   "outputs": [],
   "source": [
    "from rdkit import DataStructs\n",
    "from rdkit.Chem.Fingerprints.FingerprintMols import FingerprintMol"
   ]
  },
  {
   "cell_type": "markdown",
   "metadata": {},
   "source": [
    "Before we start doing Tanimoto Similarity, let's import a [database from chEMBL](ftp://ftp.ebi.ac.uk/pub/databases/chembl/ChEMBLdb/)\n",
    "\n",
    "Here, I'm downloading the sdf file and store it in the folder called db:"
   ]
  },
  {
   "cell_type": "code",
   "execution_count": 6,
   "metadata": {
    "ExecuteTime": {
     "end_time": "2019-08-13T23:02:07.157750Z",
     "start_time": "2019-08-13T23:02:07.152434Z"
    }
   },
   "outputs": [],
   "source": [
    "suppl = Chem.SDMolSupplier('db/chembl_01.sdf')"
   ]
  },
  {
   "cell_type": "markdown",
   "metadata": {},
   "source": [
    "now, let's create a function that converts the suppl into a list of molecules (Mol type)."
   ]
  },
  {
   "cell_type": "code",
   "execution_count": 7,
   "metadata": {
    "ExecuteTime": {
     "end_time": "2019-08-13T23:02:07.170390Z",
     "start_time": "2019-08-13T23:02:07.161703Z"
    }
   },
   "outputs": [],
   "source": [
    "def suppl_to_lst(suppl, sample_size):\n",
    "    # declare a list to store the mols\n",
    "    ms = []\n",
    "    # sample size: can be changed accordingly to the size of database\n",
    "    for i in range(sample_size):\n",
    "        ms.append(suppl[i])\n",
    "    \n",
    "    return ms"
   ]
  },
  {
   "cell_type": "code",
   "execution_count": 8,
   "metadata": {
    "ExecuteTime": {
     "end_time": "2019-08-13T23:02:07.850363Z",
     "start_time": "2019-08-13T23:02:07.174089Z"
    }
   },
   "outputs": [],
   "source": [
    "small_moldb100 = suppl_to_lst(suppl, 100)\n",
    "small_moldb200 = suppl_to_lst(suppl, 200)\n",
    "small_moldb500 = suppl_to_lst(suppl, 500)\n",
    "small_moldb1000 = suppl_to_lst(suppl, 1000)"
   ]
  },
  {
   "cell_type": "code",
   "execution_count": 9,
   "metadata": {
    "ExecuteTime": {
     "end_time": "2019-08-13T23:02:09.222632Z",
     "start_time": "2019-08-13T23:02:07.854949Z"
    }
   },
   "outputs": [],
   "source": [
    "from gensim.models import Word2Vec\n",
    "    \n",
    "model = Word2Vec.load('db/model_300dim.pkl')"
   ]
  },
  {
   "cell_type": "code",
   "execution_count": 10,
   "metadata": {
    "ExecuteTime": {
     "end_time": "2019-08-13T23:02:10.233499Z",
     "start_time": "2019-08-13T23:02:09.224771Z"
    }
   },
   "outputs": [],
   "source": [
    "from mol2vec.features import mol2alt_sentence, MolSentence, DfVec, sentences2vec\n",
    "from mol2vec.helpers import depict_identifier, mol_to_svg, IdentifierTable, plot_2D_vectors\n",
    "\n",
    "def clean_db(db, radius):\n",
    "    not_in_model = []\n",
    "    none_type = []\n",
    "    \n",
    "    # check for nonetype\n",
    "    for i in range(len(db)):\n",
    "        mol = db[i]\n",
    "        # check for nonetype\n",
    "        if type(mol) == type(None):\n",
    "            none_type.append(mol)\n",
    "        \n",
    "    cleaned1 = list(set(db)-set(none_type))\n",
    "    \n",
    "    for i in range(len(cleaned1)):\n",
    "        mol = cleaned1[i]\n",
    "        # check if sentence in model or not\n",
    "        sentences = mol2alt_sentence(mol, radius)\n",
    "        for s in sentences:\n",
    "            if s not in model:\n",
    "                not_in_model.append(mol)\n",
    "    \n",
    "    cleaned = list(set(cleaned1)-set(not_in_model))\n",
    "    return cleaned"
   ]
  },
  {
   "cell_type": "code",
   "execution_count": 11,
   "metadata": {
    "ExecuteTime": {
     "end_time": "2019-08-13T23:02:11.423009Z",
     "start_time": "2019-08-13T23:02:10.236203Z"
    }
   },
   "outputs": [
    {
     "name": "stderr",
     "output_type": "stream",
     "text": [
      "/home/sabrinaho/anaconda3/lib/python3.7/site-packages/ipykernel_launcher.py:22: DeprecationWarning: Call to deprecated `__contains__` (Method will be removed in 4.0.0, use self.wv.__contains__() instead).\n"
     ]
    }
   ],
   "source": [
    "radius = 1\n",
    "c_small_moldb100 = clean_db(small_moldb100, radius)\n",
    "c_small_moldb200 = clean_db(small_moldb200, radius)\n",
    "c_small_moldb500 = clean_db(small_moldb500, radius)\n",
    "c_small_moldb1000 = clean_db(small_moldb1000, radius)"
   ]
  },
  {
   "cell_type": "markdown",
   "metadata": {},
   "source": [
    "After getting a list of molecules, let's create a function to find the Tanimoto similarity:"
   ]
  },
  {
   "cell_type": "code",
   "execution_count": 12,
   "metadata": {
    "ExecuteTime": {
     "end_time": "2019-08-13T23:02:11.431523Z",
     "start_time": "2019-08-13T23:02:11.425768Z"
    }
   },
   "outputs": [],
   "source": [
    "def tanimoto_similarity(ms, idx):\n",
    "    # convert Mol to datastructure type using a list comprehension\n",
    "    fps = [FingerprintMol(i) for i in ms]\n",
    "\n",
    "    # set a query molecule: can be changed \n",
    "    query = fps[idx]\n",
    "    # declare new list for similarities\n",
    "    sim = []\n",
    "    # loop through to find Tanimoto similarity\n",
    "    for i in range(len(fps)):\n",
    "        # tuple: (idx, similarity)\n",
    "        sim.append((i, DataStructs.FingerprintSimilarity(query, fps[i])))\n",
    "    \n",
    "    # sort sim using the similarities\n",
    "    sim.sort(key=lambda x:x[1], reverse=True)\n",
    "    \n",
    "    return sim"
   ]
  },
  {
   "cell_type": "markdown",
   "metadata": {},
   "source": [
    "To better visualize the generated similarities, let's sort them in descending order and display them:"
   ]
  },
  {
   "cell_type": "code",
   "execution_count": 13,
   "metadata": {
    "ExecuteTime": {
     "end_time": "2019-08-13T23:02:25.337248Z",
     "start_time": "2019-08-13T23:02:11.433311Z"
    }
   },
   "outputs": [
    {
     "data": {
      "text/plain": [
       "[(9, 1.0),\n",
       " (879, 0.8318425760286225),\n",
       " (665, 0.698905109489051),\n",
       " (374, 0.6984834968777877),\n",
       " (928, 0.6939338235294118),\n",
       " (201, 0.6903914590747331),\n",
       " (282, 0.687333923826395),\n",
       " (472, 0.6873315363881402),\n",
       " (52, 0.6857899382171226),\n",
       " (131, 0.6841637010676157)]"
      ]
     },
     "execution_count": 13,
     "metadata": {},
     "output_type": "execute_result"
    }
   ],
   "source": [
    "# get gt_ranking\n",
    "for i in range(10):\n",
    "    gt_rankings = tanimoto_similarity(c_small_moldb1000, i)\n",
    "# top 10 of the list\n",
    "gt_rankings[:10]"
   ]
  },
  {
   "cell_type": "markdown",
   "metadata": {},
   "source": [
    "we can display all the top ones using the function draw2D created earlier"
   ]
  },
  {
   "cell_type": "markdown",
   "metadata": {},
   "source": [
    "So that is the Tanimoto Similarity Search using RDKit directly. And now we are wondering whether we can convert a molecule to a graph somehow to perform the similarity search. "
   ]
  },
  {
   "cell_type": "markdown",
   "metadata": {},
   "source": [
    "## End of RDKit; Next up: Mol2vec\n",
    "***"
   ]
  }
 ],
 "metadata": {
  "kernelspec": {
   "display_name": "Python 3",
   "language": "python",
   "name": "python3"
  },
  "language_info": {
   "codemirror_mode": {
    "name": "ipython",
    "version": 3
   },
   "file_extension": ".py",
   "mimetype": "text/x-python",
   "name": "python",
   "nbconvert_exporter": "python",
   "pygments_lexer": "ipython3",
   "version": "3.7.3"
  }
 },
 "nbformat": 4,
 "nbformat_minor": 2
}
