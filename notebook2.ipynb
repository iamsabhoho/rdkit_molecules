{
 "cells": [
  {
   "cell_type": "markdown",
   "metadata": {},
   "source": [
    "# Mol2Vec Experiments\n",
    "***"
   ]
  },
  {
   "cell_type": "code",
   "execution_count": 1,
   "metadata": {
    "ExecuteTime": {
     "end_time": "2019-08-13T23:13:00.830936Z",
     "start_time": "2019-08-13T23:12:58.499879Z"
    }
   },
   "outputs": [],
   "source": [
    "from rdkit import Chem\n",
    "from mol2vec.features import mol2alt_sentence, MolSentence, DfVec, sentences2vec\n",
    "from mol2vec.helpers import depict_identifier, mol_to_svg, IdentifierTable, plot_2D_vectors\n",
    "\n",
    "from gensim.models import Word2Vec\n",
    "\n",
    "model = Word2Vec.load('db/model_300dim.pkl')"
   ]
  },
  {
   "cell_type": "code",
   "execution_count": 2,
   "metadata": {
    "ExecuteTime": {
     "end_time": "2019-08-13T23:13:01.724945Z",
     "start_time": "2019-08-13T23:13:01.719889Z"
    }
   },
   "outputs": [],
   "source": [
    "suppl = Chem.SDMolSupplier('db/chembl_01.sdf')"
   ]
  },
  {
   "cell_type": "markdown",
   "metadata": {},
   "source": [
    "Now, let's create a function that converts the suppl into a list of molecules (Mol type)."
   ]
  },
  {
   "cell_type": "code",
   "execution_count": 3,
   "metadata": {
    "ExecuteTime": {
     "end_time": "2019-08-13T23:13:02.284251Z",
     "start_time": "2019-08-13T23:13:02.278525Z"
    }
   },
   "outputs": [],
   "source": [
    "def suppl_to_lst(suppl, sample_size):\n",
    "    # declare a list to store the mols\n",
    "    ms = []\n",
    "    # sample size: can be changed accordingly to the size of database\n",
    "    for i in range(sample_size):\n",
    "        ms.append(suppl[i])\n",
    "    \n",
    "    return ms"
   ]
  },
  {
   "cell_type": "markdown",
   "metadata": {},
   "source": [
    "Create different sample sizes from suppl"
   ]
  },
  {
   "cell_type": "code",
   "execution_count": 4,
   "metadata": {
    "ExecuteTime": {
     "end_time": "2019-08-13T23:13:05.266368Z",
     "start_time": "2019-08-13T23:13:03.208902Z"
    }
   },
   "outputs": [],
   "source": [
    "small_moldb100 = suppl_to_lst(suppl, 100)\n",
    "small_moldb200 = suppl_to_lst(suppl, 200)\n",
    "small_moldb500 = suppl_to_lst(suppl, 500)\n",
    "small_moldb1000 = suppl_to_lst(suppl, 1000)\n",
    "small_moldb2000 = suppl_to_lst(suppl, 2000)\n",
    "small_moldb5000 = suppl_to_lst(suppl, 5000)"
   ]
  },
  {
   "cell_type": "markdown",
   "metadata": {},
   "source": [
    "### Clean the database"
   ]
  },
  {
   "cell_type": "code",
   "execution_count": 5,
   "metadata": {
    "ExecuteTime": {
     "end_time": "2019-08-13T23:13:09.932278Z",
     "start_time": "2019-08-13T23:13:09.919774Z"
    }
   },
   "outputs": [],
   "source": [
    "def clean_db(db, radius):\n",
    "    not_in_model = []\n",
    "    none_type = []\n",
    "    \n",
    "    # check for nonetype\n",
    "    for i in range(len(db)):\n",
    "        mol = db[i]\n",
    "        # check for nonetype\n",
    "        if type(mol) == type(None):\n",
    "            none_type.append(mol)\n",
    "        \n",
    "    cleaned1 = list(set(db)-set(none_type))\n",
    "    \n",
    "    for i in range(len(cleaned1)):\n",
    "        mol = cleaned1[i]\n",
    "        # check if sentence in model or not\n",
    "        sentences = mol2alt_sentence(mol, radius)\n",
    "        for s in sentences:\n",
    "            if s not in model:\n",
    "                not_in_model.append(mol)\n",
    "    \n",
    "    cleaned = list(set(cleaned1)-set(not_in_model))\n",
    "    return cleaned"
   ]
  },
  {
   "cell_type": "markdown",
   "metadata": {},
   "source": [
    "Clean the databases, with radius = 1"
   ]
  },
  {
   "cell_type": "code",
   "execution_count": 6,
   "metadata": {
    "ExecuteTime": {
     "end_time": "2019-08-13T23:13:13.658421Z",
     "start_time": "2019-08-13T23:13:10.780017Z"
    }
   },
   "outputs": [
    {
     "name": "stderr",
     "output_type": "stream",
     "text": [
      "/home/sabrinaho/anaconda3/lib/python3.7/site-packages/ipykernel_launcher.py:19: DeprecationWarning: Call to deprecated `__contains__` (Method will be removed in 4.0.0, use self.wv.__contains__() instead).\n"
     ]
    }
   ],
   "source": [
    "radius = 1\n",
    "c_small_moldb100 = clean_db(small_moldb100, radius)\n",
    "c_small_moldb200 = clean_db(small_moldb200, radius)\n",
    "c_small_moldb500 = clean_db(small_moldb500, radius)\n",
    "c_small_moldb1000 = clean_db(small_moldb1000, radius)\n",
    "c_small_moldb2000 = clean_db(small_moldb2000, radius)\n",
    "c_small_moldb5000 = clean_db(small_moldb5000, radius)"
   ]
  },
  {
   "cell_type": "markdown",
   "metadata": {},
   "source": [
    "***"
   ]
  },
  {
   "cell_type": "code",
   "execution_count": 7,
   "metadata": {
    "ExecuteTime": {
     "end_time": "2019-08-13T23:13:20.716560Z",
     "start_time": "2019-08-13T23:13:20.701966Z"
    }
   },
   "outputs": [],
   "source": [
    "from IPython.display import SVG\n",
    "from rdkit.Chem import rdDepictor as rdd\n",
    "from rdkit.Chem.Draw import rdMolDraw2D as draw2d\n",
    "\n",
    "def draw2D(x):\n",
    "    m = x\n",
    "    molSize = (450, 150)\n",
    "    mc = Chem.Mol(m.ToBinary())\n",
    "    if not mc.GetNumConformers():\n",
    "        rdd.Compute2DCoords(mc)\n",
    "    drawer = draw2d.MolDraw2DSVG(molSize[0],molSize[1])\n",
    "    drawer.DrawMolecule(mc)\n",
    "    drawer.FinishDrawing()\n",
    "    svg = drawer.GetDrawingText()\n",
    "    display(SVG(svg.replace('svg:','')))"
   ]
  },
  {
   "cell_type": "code",
   "execution_count": 8,
   "metadata": {
    "ExecuteTime": {
     "end_time": "2019-08-13T23:13:21.468045Z",
     "start_time": "2019-08-13T23:13:21.449067Z"
    }
   },
   "outputs": [],
   "source": [
    "from rdkit import DataStructs\n",
    "from rdkit.Chem.Fingerprints.FingerprintMols import FingerprintMol"
   ]
  },
  {
   "cell_type": "markdown",
   "metadata": {},
   "source": [
    "After getting a list of molecules, let's create a function to find the Tanimoto similarity:"
   ]
  },
  {
   "cell_type": "code",
   "execution_count": 9,
   "metadata": {
    "ExecuteTime": {
     "end_time": "2019-08-13T23:13:23.497383Z",
     "start_time": "2019-08-13T23:13:23.489209Z"
    }
   },
   "outputs": [],
   "source": [
    "def tanimoto_similarity(ms, idx):\n",
    "    # convert Mol to datastructure type using a list comprehension\n",
    "    fps = [FingerprintMol(i) for i in ms]\n",
    "\n",
    "    # set a query molecule: can be changed \n",
    "    query = fps[idx]\n",
    "    # declare new list for similarities\n",
    "    sim = []\n",
    "    # loop through to find Tanimoto similarity\n",
    "    for i in range(len(fps)):\n",
    "        # tuple: (idx, similarity)\n",
    "        sim.append((i, DataStructs.FingerprintSimilarity(query, fps[i])))\n",
    "\n",
    "    # sort sim using the similarities\n",
    "    sim.sort(key=lambda x:x[1], reverse=True)\n",
    "\n",
    "    return sim"
   ]
  },
  {
   "cell_type": "markdown",
   "metadata": {},
   "source": [
    "Before getting into embedding molecules into vectors, I'm going to breifly introduce Word2Vec, which Mol2Vec is based on and is what I will be using."
   ]
  },
  {
   "cell_type": "markdown",
   "metadata": {},
   "source": [
    "## What is [Word2Vec](https://en.wikipedia.org/wiki/Word2vec)?\n",
    "Word2Vec is a two-layer neural networks that input a word corpus and output a vector space. Although Word2Vec is not a deep neural network, it converts words into numerical format that deep nets can understand.\n"
   ]
  },
  {
   "cell_type": "markdown",
   "metadata": {},
   "source": [
    "## [Mol2vec](https://github.com/samoturk/mol2vec)\n",
    "The concept of Mol2Vec is based from Word2Vec, instead of words, it's molecules. \n",
    "\n",
    "Now, let's load a molecule database from [chEMBL](ftp://ftp.ebi.ac.uk/pub/databases/chembl/ChEMBLdb/) (same as the one mentioned above)\n",
    "#### Load molecule database\n",
    "- len(suppl) = 440055"
   ]
  },
  {
   "cell_type": "code",
   "execution_count": 10,
   "metadata": {
    "ExecuteTime": {
     "end_time": "2019-08-13T23:13:25.574569Z",
     "start_time": "2019-08-13T23:13:25.569196Z"
    }
   },
   "outputs": [],
   "source": [
    "suppl = Chem.SDMolSupplier('db/chembl_01.sdf')"
   ]
  },
  {
   "cell_type": "markdown",
   "metadata": {},
   "source": [
    "Now, let's load the first mol in suppl and display it:"
   ]
  },
  {
   "cell_type": "code",
   "execution_count": 11,
   "metadata": {
    "ExecuteTime": {
     "end_time": "2019-08-13T23:13:26.726810Z",
     "start_time": "2019-08-13T23:13:26.708649Z"
    }
   },
   "outputs": [
    {
     "data": {
      "image/svg+xml": [
       "<svg baseProfile=\"full\" height=\"150px\" version=\"1.1\" width=\"450px\" xml:space=\"preserve\" xmlns=\"http://www.w3.org/2000/svg\" xmlns:rdkit=\"http://www.rdkit.org/xml\" xmlns:xlink=\"http://www.w3.org/1999/xlink\">\n",
       "<rect height=\"150\" style=\"opacity:1.0;fill:#FFFFFF;stroke:none\" width=\"450\" x=\"0\" y=\"0\"> </rect>\n",
       "<path d=\"M 246.47,11.975 272.052,26.8479\" style=\"fill:none;fill-rule:evenodd;stroke:#FF0000;stroke-width:2px;stroke-linecap:butt;stroke-linejoin:miter;stroke-opacity:1\"/>\n",
       "<path d=\"M 272.052,26.8479 297.634,41.7208\" style=\"fill:none;fill-rule:evenodd;stroke:#000000;stroke-width:2px;stroke-linecap:butt;stroke-linejoin:miter;stroke-opacity:1\"/>\n",
       "<path d=\"M 248.269,26.5416 266.177,36.9526\" style=\"fill:none;fill-rule:evenodd;stroke:#FF0000;stroke-width:2px;stroke-linecap:butt;stroke-linejoin:miter;stroke-opacity:1;stroke-dasharray:6,6\"/>\n",
       "<path d=\"M 266.177,36.9526 284.084,47.3636\" style=\"fill:none;fill-rule:evenodd;stroke:#000000;stroke-width:2px;stroke-linecap:butt;stroke-linejoin:miter;stroke-opacity:1;stroke-dasharray:6,6\"/>\n",
       "<path d=\"M 232.46,11.9327 206.336,26.9631\" style=\"fill:none;fill-rule:evenodd;stroke:#FF0000;stroke-width:2px;stroke-linecap:butt;stroke-linejoin:miter;stroke-opacity:1\"/>\n",
       "<path d=\"M 206.336,26.9631 180.211,41.9935\" style=\"fill:none;fill-rule:evenodd;stroke:#000000;stroke-width:2px;stroke-linecap:butt;stroke-linejoin:miter;stroke-opacity:1\"/>\n",
       "<path d=\"M 230.452,26.573 212.165,37.0943\" style=\"fill:none;fill-rule:evenodd;stroke:#FF0000;stroke-width:2px;stroke-linecap:butt;stroke-linejoin:miter;stroke-opacity:1;stroke-dasharray:6,6\"/>\n",
       "<path d=\"M 212.165,37.0943 193.878,47.6156\" style=\"fill:none;fill-rule:evenodd;stroke:#000000;stroke-width:2px;stroke-linecap:butt;stroke-linejoin:miter;stroke-opacity:1;stroke-dasharray:6,6\"/>\n",
       "<path d=\"M 297.634,41.7208 297.634,108.552\" style=\"fill:none;fill-rule:evenodd;stroke:#000000;stroke-width:2px;stroke-linecap:butt;stroke-linejoin:miter;stroke-opacity:1\"/>\n",
       "<path d=\"M 285.945,51.7455 285.945,98.5273\" style=\"fill:none;fill-rule:evenodd;stroke:#000000;stroke-width:2px;stroke-linecap:butt;stroke-linejoin:miter;stroke-opacity:1;stroke-dasharray:6,6\"/>\n",
       "<path d=\"M 300.62,46.7444 326.475,31.3751\" style=\"fill:none;fill-rule:evenodd;stroke:#000000;stroke-width:2px;stroke-linecap:butt;stroke-linejoin:miter;stroke-opacity:1\"/>\n",
       "<path d=\"M 326.475,31.3751 352.329,16.0058\" style=\"fill:none;fill-rule:evenodd;stroke:#FF0000;stroke-width:2px;stroke-linecap:butt;stroke-linejoin:miter;stroke-opacity:1\"/>\n",
       "<path d=\"M 294.647,36.6972 320.502,21.3279\" style=\"fill:none;fill-rule:evenodd;stroke:#000000;stroke-width:2px;stroke-linecap:butt;stroke-linejoin:miter;stroke-opacity:1\"/>\n",
       "<path d=\"M 320.502,21.3279 346.357,5.95859\" style=\"fill:none;fill-rule:evenodd;stroke:#FF0000;stroke-width:2px;stroke-linecap:butt;stroke-linejoin:miter;stroke-opacity:1\"/>\n",
       "<path d=\"M 239.465,142.37 180.211,108.279\" style=\"fill:none;fill-rule:evenodd;stroke:#000000;stroke-width:2px;stroke-linecap:butt;stroke-linejoin:miter;stroke-opacity:1\"/>\n",
       "<path d=\"M 236.406,127.125 194.928,103.262\" style=\"fill:none;fill-rule:evenodd;stroke:#000000;stroke-width:2px;stroke-linecap:butt;stroke-linejoin:miter;stroke-opacity:1;stroke-dasharray:6,6\"/>\n",
       "<path d=\"M 239.465,142.37 297.634,108.552\" style=\"fill:none;fill-rule:evenodd;stroke:#000000;stroke-width:2px;stroke-linecap:butt;stroke-linejoin:miter;stroke-opacity:1\"/>\n",
       "<path d=\"M 242.315,127.193 283.034,103.52\" style=\"fill:none;fill-rule:evenodd;stroke:#000000;stroke-width:2px;stroke-linecap:butt;stroke-linejoin:miter;stroke-opacity:1;stroke-dasharray:6,6\"/>\n",
       "<path d=\"M 180.211,41.9935 180.211,108.279\" style=\"fill:none;fill-rule:evenodd;stroke:#000000;stroke-width:2px;stroke-linecap:butt;stroke-linejoin:miter;stroke-opacity:1\"/>\n",
       "<path d=\"M 191.9,51.9364 191.9,98.3364\" style=\"fill:none;fill-rule:evenodd;stroke:#000000;stroke-width:2px;stroke-linecap:butt;stroke-linejoin:miter;stroke-opacity:1;stroke-dasharray:6,6\"/>\n",
       "<path d=\"M 180.211,41.9935 122.309,7.09091\" style=\"fill:none;fill-rule:evenodd;stroke:#000000;stroke-width:2px;stroke-linecap:butt;stroke-linejoin:miter;stroke-opacity:1\"/>\n",
       "<path d=\"M 165.492,46.7685 124.96,22.3366\" style=\"fill:none;fill-rule:evenodd;stroke:#000000;stroke-width:2px;stroke-linecap:butt;stroke-linejoin:miter;stroke-opacity:1;stroke-dasharray:6,6\"/>\n",
       "<path d=\"M 180.211,108.279 122.309,143.182\" style=\"fill:none;fill-rule:evenodd;stroke:#000000;stroke-width:2px;stroke-linecap:butt;stroke-linejoin:miter;stroke-opacity:1\"/>\n",
       "<path d=\"M 165.492,103.504 124.96,127.936\" style=\"fill:none;fill-rule:evenodd;stroke:#000000;stroke-width:2px;stroke-linecap:butt;stroke-linejoin:miter;stroke-opacity:1;stroke-dasharray:6,6\"/>\n",
       "<path d=\"M 122.309,7.09091 63.3284,41.1818\" style=\"fill:none;fill-rule:evenodd;stroke:#000000;stroke-width:2px;stroke-linecap:butt;stroke-linejoin:miter;stroke-opacity:1\"/>\n",
       "<path d=\"M 119.311,22.3241 78.0246,46.1877\" style=\"fill:none;fill-rule:evenodd;stroke:#000000;stroke-width:2px;stroke-linecap:butt;stroke-linejoin:miter;stroke-opacity:1;stroke-dasharray:6,6\"/>\n",
       "<path d=\"M 122.309,143.182 63.3284,109.091\" style=\"fill:none;fill-rule:evenodd;stroke:#000000;stroke-width:2px;stroke-linecap:butt;stroke-linejoin:miter;stroke-opacity:1\"/>\n",
       "<path d=\"M 119.311,127.949 78.0246,104.085\" style=\"fill:none;fill-rule:evenodd;stroke:#000000;stroke-width:2px;stroke-linecap:butt;stroke-linejoin:miter;stroke-opacity:1;stroke-dasharray:6,6\"/>\n",
       "<path d=\"M 63.3284,41.1818 63.3284,109.091\" style=\"fill:none;fill-rule:evenodd;stroke:#000000;stroke-width:2px;stroke-linecap:butt;stroke-linejoin:miter;stroke-opacity:1\"/>\n",
       "<path d=\"M 75.0167,51.3682 75.0167,98.9045\" style=\"fill:none;fill-rule:evenodd;stroke:#000000;stroke-width:2px;stroke-linecap:butt;stroke-linejoin:miter;stroke-opacity:1;stroke-dasharray:6,6\"/>\n",
       "<text style=\"font-size:15px;font-style:normal;font-weight:normal;fill-opacity:1;stroke:none;font-family:sans-serif;text-anchor:start;fill:#FF0000\" x=\"232.46\" y=\"15.4026\"><tspan>O</tspan></text>\n",
       "<text style=\"font-size:15px;font-style:normal;font-weight:normal;fill-opacity:1;stroke:none;font-family:sans-serif;text-anchor:start;fill:#FF0000\" x=\"349.343\" y=\"14.3182\"><tspan>O</tspan></text>\n",
       "</svg>"
      ],
      "text/plain": [
       "<IPython.core.display.SVG object>"
      ]
     },
     "metadata": {},
     "output_type": "display_data"
    }
   ],
   "source": [
    "m = suppl[0]\n",
    "draw2D(m)"
   ]
  },
  {
   "cell_type": "markdown",
   "metadata": {},
   "source": [
    "### Morgan Fingerprints"
   ]
  },
  {
   "cell_type": "code",
   "execution_count": 12,
   "metadata": {
    "ExecuteTime": {
     "end_time": "2019-08-13T23:13:29.223353Z",
     "start_time": "2019-08-13T23:13:29.218924Z"
    }
   },
   "outputs": [],
   "source": [
    "from rdkit.Chem import AllChem"
   ]
  },
  {
   "cell_type": "markdown",
   "metadata": {},
   "source": [
    "##### 1. <rdkit.DataStructs.cDataStructs.UIntSparseIntVect at 0x7fdfcac2f080>"
   ]
  },
  {
   "cell_type": "code",
   "execution_count": 13,
   "metadata": {
    "ExecuteTime": {
     "end_time": "2019-08-13T23:13:29.976387Z",
     "start_time": "2019-08-13T23:13:29.968972Z"
    }
   },
   "outputs": [
    {
     "data": {
      "text/plain": [
       "<rdkit.DataStructs.cDataStructs.UIntSparseIntVect at 0x7ff9f13990d0>"
      ]
     },
     "execution_count": 13,
     "metadata": {},
     "output_type": "execute_result"
    }
   ],
   "source": [
    "mfp = AllChem.GetMorganFingerprint(m, radius=1)\n",
    "mfp"
   ]
  },
  {
   "cell_type": "markdown",
   "metadata": {},
   "source": [
    "By using the function <font color='red'>GetNonzeroElements()</font>, we will get a list of Morgan Fingerprints, as shown below"
   ]
  },
  {
   "cell_type": "code",
   "execution_count": 14,
   "metadata": {
    "ExecuteTime": {
     "end_time": "2019-08-13T23:13:31.345479Z",
     "start_time": "2019-08-13T23:13:31.338518Z"
    }
   },
   "outputs": [
    {
     "data": {
      "text/plain": [
       "[10565946,\n",
       " 98513984,\n",
       " 368713488,\n",
       " 864942730,\n",
       " 951226070,\n",
       " 2360741695,\n",
       " 2759434019,\n",
       " 3189457552,\n",
       " 3217380708,\n",
       " 3218693969,\n",
       " 4197146180]"
      ]
     },
     "execution_count": 14,
     "metadata": {},
     "output_type": "execute_result"
    }
   ],
   "source": [
    "list(mfp.GetNonzeroElements().keys())"
   ]
  },
  {
   "cell_type": "markdown",
   "metadata": {},
   "source": [
    "After getting a good understanding of what Mol2Vec is and how Morgan Fingerprints work, let's start by importing some modules:"
   ]
  },
  {
   "cell_type": "markdown",
   "metadata": {},
   "source": [
    "#### Load trained model\n",
    "Model training are done using ref: [Mol2Vec](https://github.com/samoturk/mol2vec)\n",
    "- Model training is replying on Word2Vec implementation of [gensim](https://radimrehurek.com/gensim/models/word2vec.html)"
   ]
  },
  {
   "cell_type": "code",
   "execution_count": 15,
   "metadata": {
    "ExecuteTime": {
     "end_time": "2019-08-13T23:13:33.849136Z",
     "start_time": "2019-08-13T23:13:33.398857Z"
    }
   },
   "outputs": [],
   "source": [
    "from gensim.models import Word2Vec\n",
    "\n",
    "model = Word2Vec.load('db/model_300dim.pkl')"
   ]
  },
  {
   "cell_type": "markdown",
   "metadata": {},
   "source": [
    "### start matching"
   ]
  },
  {
   "cell_type": "markdown",
   "metadata": {},
   "source": [
    "In [mol2vec/features.py](https://github.com/samoturk/mol2vec/blob/master/mol2vec/features.py) there are two different functions that calculate Morgan Fingerprints: <font color='red'>mol2sentence()</font> and <font color='red'>mol2alt_sentence()</font>\n",
    "They are the same, except \n",
    "- <font color='red'>mol2alt_sentence()</font> only returns the alternating sentences, which is the list of sentences for all radii combined. \n",
    "\n",
    "Whereas, \n",
    "- <font color='red'>mol2sentence()</font> returns an additional list of sentences for each radius.\n",
    "\n",
    "In this project, we are using <font color='red'>mol2alt_sentence()</font> since the alternating sentence is the list we need."
   ]
  },
  {
   "cell_type": "markdown",
   "metadata": {},
   "source": [
    "<font color='red'>mol2alt_sentence()</font>: a function that \n",
    "- parameters \n",
    "    - a **mol**\n",
    "    - a **radius**\n",
    "- calculates ECFP (**Morgan Fingerprints**)\n",
    "- returns identifiers of substructions as sentences (strings)"
   ]
  },
  {
   "cell_type": "code",
   "execution_count": 16,
   "metadata": {
    "ExecuteTime": {
     "end_time": "2019-08-13T23:13:35.350996Z",
     "start_time": "2019-08-13T23:13:35.247989Z"
    }
   },
   "outputs": [
    {
     "ename": "NameError",
     "evalue": "name 'ms' is not defined",
     "output_type": "error",
     "traceback": [
      "\u001b[0;31m---------------------------------------------------------------------------\u001b[0m",
      "\u001b[0;31mNameError\u001b[0m                                 Traceback (most recent call last)",
      "\u001b[0;32m<ipython-input-16-754753198383>\u001b[0m in \u001b[0;36m<module>\u001b[0;34m\u001b[0m\n\u001b[1;32m      1\u001b[0m \u001b[0;31m# ms is a molecule list\u001b[0m\u001b[0;34m\u001b[0m\u001b[0;34m\u001b[0m\u001b[0;34m\u001b[0m\u001b[0m\n\u001b[0;32m----> 2\u001b[0;31m \u001b[0msentence\u001b[0m \u001b[0;34m=\u001b[0m \u001b[0mmol2alt_sentence\u001b[0m\u001b[0;34m(\u001b[0m\u001b[0mms\u001b[0m\u001b[0;34m[\u001b[0m\u001b[0;36m0\u001b[0m\u001b[0;34m]\u001b[0m\u001b[0;34m,\u001b[0m \u001b[0;36m1\u001b[0m\u001b[0;34m)\u001b[0m\u001b[0;34m\u001b[0m\u001b[0;34m\u001b[0m\u001b[0m\n\u001b[0m",
      "\u001b[0;31mNameError\u001b[0m: name 'ms' is not defined"
     ]
    }
   ],
   "source": [
    "# ms is a molecule list\n",
    "sentence = mol2alt_sentence(ms[0], 1)"
   ]
  },
  {
   "cell_type": "markdown",
   "metadata": {},
   "source": [
    "### vectorlizing a molecule\n",
    "1. declare a variable called **vecNode**: sum of the vectors of all substructures\n",
    "2. for i in range of length of sentence: however many substructures there are\n",
    "3. a variable vec is the vector of the substructure, get it using model.wv\n",
    "4. cumulatively adds vec to vecNode\n",
    "5. will output a summed vector of all substructures of a mol (output below)"
   ]
  },
  {
   "cell_type": "markdown",
   "metadata": {},
   "source": [
    "### mol2vec algorithm #1\n",
    "<font color='red'>mol2vec_duplicates()</font> is a function that:\n",
    "- takes in parameters:\n",
    "    - **mol**: a molecule\n",
    "    - **radius**: radius\n",
    "- returns a vector"
   ]
  },
  {
   "cell_type": "code",
   "execution_count": 17,
   "metadata": {
    "ExecuteTime": {
     "end_time": "2019-08-13T23:13:40.146848Z",
     "start_time": "2019-08-13T23:13:40.139531Z"
    }
   },
   "outputs": [],
   "source": [
    "def mol2vec_duplicates(mol, radius):\n",
    "    # get sentence\n",
    "    sentence = mol2alt_sentence(mol, radius)\n",
    "\n",
    "    # calculate vecNode\n",
    "    vecNode = 0\n",
    "    for i in range(len(sentence)):\n",
    "        vec = model.wv[sentence[i]]\n",
    "        vecNode += vec\n",
    "\n",
    "    return vecNode"
   ]
  },
  {
   "cell_type": "markdown",
   "metadata": {},
   "source": [
    "### mol2vec algorithm #2\n",
    "<font color='red'>mol2vec_unique()</font> is a function that:\n",
    "- takes in parameters:\n",
    "    - **mol**: a molecule\n",
    "    - **radius**: radius\n",
    "- returns a vector"
   ]
  },
  {
   "cell_type": "code",
   "execution_count": 18,
   "metadata": {
    "ExecuteTime": {
     "end_time": "2019-08-13T23:13:40.766166Z",
     "start_time": "2019-08-13T23:13:40.758903Z"
    }
   },
   "outputs": [],
   "source": [
    "def mol2vec_unique(mol, radius):\n",
    "    # get sentence\n",
    "    sentence = list(set(mol2alt_sentence(mol, radius)))\n",
    "\n",
    "    # calculate vecNode\n",
    "    vecNode = 0\n",
    "    for i in range(len(sentence)):\n",
    "        vec = model.wv[sentence[i]]\n",
    "        vecNode += vec\n",
    "\n",
    "    return vecNode"
   ]
  },
  {
   "cell_type": "markdown",
   "metadata": {},
   "source": [
    "### mol2vec algorithm #3\n",
    "<font color='red'>mol2vec_average_dup()</font> is a function that:\n",
    "- takes in parameters:\n",
    "    - **mol**: a molecule\n",
    "    - **radius**: radius\n",
    "- returns a vector"
   ]
  },
  {
   "cell_type": "code",
   "execution_count": 19,
   "metadata": {
    "ExecuteTime": {
     "end_time": "2019-08-13T23:13:41.406180Z",
     "start_time": "2019-08-13T23:13:41.398928Z"
    }
   },
   "outputs": [],
   "source": [
    "def mol2vec_average_dup(mol, radius):\n",
    "    # get sentence\n",
    "    sentence = mol2alt_sentence(mol, radius)\n",
    "\n",
    "    # calculate vecNode\n",
    "    vecNode = 0\n",
    "    for i in range(len(sentence)):\n",
    "        vec = model.wv[sentence[i]]\n",
    "        vecNode += vec\n",
    "\n",
    "    return vecNode/len(sentence)"
   ]
  },
  {
   "cell_type": "markdown",
   "metadata": {},
   "source": [
    "### mol2vec algorithm #4\n",
    "<font color='red'>mol2vec_average_uni()</font> is a function that:\n",
    "- takes in parameters:\n",
    "    - **mol**: a molecule\n",
    "    - **radius**: radius\n",
    "- returns a vector"
   ]
  },
  {
   "cell_type": "code",
   "execution_count": 20,
   "metadata": {
    "ExecuteTime": {
     "end_time": "2019-08-13T23:13:42.012591Z",
     "start_time": "2019-08-13T23:13:42.008171Z"
    }
   },
   "outputs": [],
   "source": [
    "def mol2vec_average_uni(mol, radius):\n",
    "    # get sentence\n",
    "    sentence = list(set(mol2alt_sentence(mol, radius)))\n",
    "\n",
    "    # calculate vecNode\n",
    "    vecNode = 0\n",
    "    for i in range(len(sentence)):\n",
    "        vec = model.wv[sentence[i]]\n",
    "        vecNode += vec\n",
    "\n",
    "    return vecNode/len(sentence)"
   ]
  },
  {
   "cell_type": "markdown",
   "metadata": {},
   "source": [
    "***"
   ]
  },
  {
   "cell_type": "markdown",
   "metadata": {},
   "source": [
    "### Similarity distance #1: Euclidean\n",
    "To calculate the similarity between two vectors, we are using the Euclidean distance. The function <font color='red'>mol2vec_euclidean_similarity()</font> is a function that:\n",
    "- takes in parameters:\n",
    "    - **ms**: a small mol database\n",
    "    - **idx**: index of the query\n",
    "    - **radius**: radius to compute\n",
    "    - **f**: mol2vec function to use\n",
    "- returns a list of Euclidean distances"
   ]
  },
  {
   "cell_type": "code",
   "execution_count": 21,
   "metadata": {
    "ExecuteTime": {
     "end_time": "2019-08-13T23:13:43.679609Z",
     "start_time": "2019-08-13T23:13:43.669396Z"
    }
   },
   "outputs": [],
   "source": [
    "import numpy as np\n",
    "\n",
    "def mol2vec_euclidean_similarity(ms, idx, radius, f):\n",
    "    # query, vec\n",
    "    query = f(ms[idx], radius)\n",
    "    \n",
    "    # declare dist list \n",
    "    dist = []\n",
    "\n",
    "    for i in range(len(ms)):\n",
    "        target = f(ms[i], radius)\n",
    "        \n",
    "        # compute distance \n",
    "        distance = np.linalg.norm(query-target)\n",
    "        dist.append((i, distance))\n",
    "\n",
    "    # sort \n",
    "    dist.sort(key=lambda x:x[1])\n",
    "\n",
    "    return dist"
   ]
  },
  {
   "cell_type": "markdown",
   "metadata": {},
   "source": [
    "### Similarity distance #2: Cosine\n",
    "To calculate the similarity between two vectors, we are using the cosine distance. The function <font color='red'>mol2vec_cosine_similarity()</font> is a function that:\n",
    "- takes in parameters:\n",
    "    - **ms**: a small mol database\n",
    "    - **idx**: index of the query\n",
    "    - **radius**: radius to compute\n",
    "    - **f**: mol2vec function to use\n",
    "- returns a list of cosine distance"
   ]
  },
  {
   "cell_type": "code",
   "execution_count": 22,
   "metadata": {
    "ExecuteTime": {
     "end_time": "2019-08-13T23:13:44.976161Z",
     "start_time": "2019-08-13T23:13:44.708666Z"
    }
   },
   "outputs": [],
   "source": [
    "from sklearn.metrics.pairwise import cosine_similarity, cosine_distances\n",
    "\n",
    "def mol2vec_cosine_similarity(ms, idx, radius, f):\n",
    "    # query, vec\n",
    "    query = f(ms[idx], radius).reshape(1, -1)\n",
    "    \n",
    "    # declare dist list \n",
    "    dist = []\n",
    "\n",
    "    for i in range(len(ms)):\n",
    "        target = f(ms[i], radius).reshape(1, -1)\n",
    "        \n",
    "        # compute distance \n",
    "        distance = cosine_distances(query, target)[0][0]\n",
    "        dist.append((i, distance))\n",
    "\n",
    "    # sort \n",
    "    dist.sort(key=lambda x:x[1])\n",
    "\n",
    "    return dist"
   ]
  },
  {
   "cell_type": "markdown",
   "metadata": {},
   "source": [
    "To compare the rankings generate by different similarity search, we first conduct a method called **recall**. <font color='red'>compare_rankings_recall()</font> is a function that:\n",
    "- takes in parameters:\n",
    "    - **gt**: ground truth rankings\n",
    "    - **tar**: target rankings\n",
    "    - **k**: k nearest neighbors\n",
    "- returns the proportion"
   ]
  },
  {
   "cell_type": "code",
   "execution_count": 23,
   "metadata": {
    "ExecuteTime": {
     "end_time": "2019-08-13T23:13:45.597153Z",
     "start_time": "2019-08-13T23:13:45.588025Z"
    }
   },
   "outputs": [],
   "source": [
    "def compare_rankings_recall(gt, tar, k):\n",
    "    # get idx from both ground truth and target lists\n",
    "    gt_keys = [gt[i][0] for i in range(1, k+1)]\n",
    "    tar_keys = [tar[j][0] for j in range(1, k+1)]\n",
    "    \n",
    "    # declare a var count to keep track\n",
    "    count = 0\n",
    "    for x in range(k):\n",
    "        if tar_keys[x] in gt_keys:\n",
    "            count+=1\n",
    "    \n",
    "    return count/k"
   ]
  },
  {
   "cell_type": "markdown",
   "metadata": {},
   "source": [
    "***"
   ]
  },
  {
   "cell_type": "markdown",
   "metadata": {},
   "source": [
    "### Tanimoto vs Euclidean similarity"
   ]
  },
  {
   "cell_type": "code",
   "execution_count": 24,
   "metadata": {
    "ExecuteTime": {
     "end_time": "2019-08-13T23:13:47.650731Z",
     "start_time": "2019-08-13T23:13:47.637389Z"
    }
   },
   "outputs": [],
   "source": [
    "def tanimoto_euclidean(moldb, k, radius):\n",
    "    lst1, lst2, lst3, lst4 = [], [], [], []\n",
    "    query_size = 20\n",
    "    \n",
    "    for i in range(query_size):\n",
    "        gt_rankings = tanimoto_similarity(moldb, i)\n",
    "        dup_rankings = mol2vec_euclidean_similarity(moldb, i, radius, mol2vec_duplicates)\n",
    "        uni_rankings = mol2vec_euclidean_similarity(moldb, i, radius, mol2vec_unique)\n",
    "        avg_dup_rankings = mol2vec_euclidean_similarity(moldb, i, radius, mol2vec_average_dup)\n",
    "        avg_uni_rankings = mol2vec_euclidean_similarity(moldb, i, radius, mol2vec_average_uni)\n",
    "\n",
    "        lst1.append(compare_rankings_recall(gt_rankings, dup_rankings, k))\n",
    "        lst2.append(compare_rankings_recall(gt_rankings, uni_rankings, k))\n",
    "        lst3.append(compare_rankings_recall(gt_rankings, avg_dup_rankings, k))\n",
    "        lst4.append(compare_rankings_recall(gt_rankings, avg_uni_rankings, k))\n",
    "    \n",
    "    return [lst1, lst2, lst3, lst4]"
   ]
  },
  {
   "cell_type": "markdown",
   "metadata": {},
   "source": [
    "### Tanimoto vs Cosine similarity"
   ]
  },
  {
   "cell_type": "code",
   "execution_count": 25,
   "metadata": {
    "ExecuteTime": {
     "end_time": "2019-08-13T23:13:49.018199Z",
     "start_time": "2019-08-13T23:13:49.004392Z"
    }
   },
   "outputs": [],
   "source": [
    "def tanimoto_cosine(moldb, k, radius):\n",
    "    lst1, lst2, lst3, lst4 = [], [], [], []\n",
    "    query_size = 20\n",
    "\n",
    "    for i in range(query_size):\n",
    "        gt_rankings = tanimoto_similarity(moldb, i)\n",
    "        dup_rankings = mol2vec_cosine_similarity(moldb, i, radius, mol2vec_duplicates)\n",
    "        uni_rankings = mol2vec_cosine_similarity(moldb, i, radius, mol2vec_unique)\n",
    "        avg_dup_rankings = mol2vec_cosine_similarity(moldb, i, radius, mol2vec_average_dup)\n",
    "        avg_uni_rankings = mol2vec_cosine_similarity(moldb, i, radius, mol2vec_average_uni)\n",
    "\n",
    "        lst1.append(compare_rankings_recall(gt_rankings, dup_rankings, k))\n",
    "        lst2.append(compare_rankings_recall(gt_rankings, uni_rankings, k))\n",
    "        lst3.append(compare_rankings_recall(gt_rankings, avg_dup_rankings, k))\n",
    "        lst4.append(compare_rankings_recall(gt_rankings, avg_uni_rankings, k))\n",
    "    \n",
    "    return [lst1, lst2, lst3, lst4]"
   ]
  },
  {
   "cell_type": "markdown",
   "metadata": {},
   "source": [
    "***"
   ]
  },
  {
   "cell_type": "markdown",
   "metadata": {},
   "source": [
    "## Pandas boxplot\n",
    "Import the pandas library"
   ]
  },
  {
   "cell_type": "code",
   "execution_count": 26,
   "metadata": {
    "ExecuteTime": {
     "end_time": "2019-08-13T23:13:50.552962Z",
     "start_time": "2019-08-13T23:13:50.548533Z"
    }
   },
   "outputs": [],
   "source": [
    "import pandas as pd\n",
    "import matplotlib.pyplot as plt"
   ]
  },
  {
   "cell_type": "markdown",
   "metadata": {},
   "source": [
    "Create the dataframe and plot"
   ]
  },
  {
   "cell_type": "code",
   "execution_count": 27,
   "metadata": {
    "ExecuteTime": {
     "end_time": "2019-08-13T23:13:51.263506Z",
     "start_time": "2019-08-13T23:13:51.245741Z"
    }
   },
   "outputs": [],
   "source": [
    "def create_df_bp(moldb, k_lst, radius):\n",
    "    keys = ['euclidean: gt vs dup', 'euclidean: gt vs uni',\n",
    "       'euclidean: gt vs avg_dup', 'euclidean: gt vs avg_uni', \n",
    "       'cosine: gt vs dup', 'consine: gt vs uni', \n",
    "       'cosine: gt vs avg_dup', 'cosine: gt vs avg_uni']\n",
    "    df_lst = []\n",
    "    for k in range(len(k_lst)):\n",
    "        eucli, cos = [], []\n",
    "        for i in range(4):\n",
    "            eucli.append(tanimoto_euclidean(moldb, k_lst[k], radius)[i])\n",
    "        for i in range(4):\n",
    "            cos.append(tanimoto_cosine(moldb, k_lst[k], radius)[i])\n",
    "        values = eucli + cos\n",
    "        d = dict(zip(keys, values))\n",
    "        df = pd.DataFrame(d)\n",
    "        df_lst.append(df)\n",
    "    \n",
    "    # plot, subplots\n",
    "    fig, axes = plt.subplots(nrows=len(k_lst), ncols=1, sharex=True)\n",
    "    \n",
    "    for k in range(len(k_lst)):\n",
    "        ax = df_lst[k].boxplot(ax=axes[k], rot=-90)\n",
    "        ax.set_title(\"recall @ \" + str(k_lst[k]) + \" for radius=\" + str(radius))\n",
    "        ax.set_ylabel(\"recall @ \" + str(k_lst[k]))\n",
    "        ax.set_ylim([0, 1.1]) \n",
    "    \n",
    "    return plt.subplots_adjust(hspace=0.5)"
   ]
  },
  {
   "cell_type": "code",
   "execution_count": 28,
   "metadata": {
    "ExecuteTime": {
     "end_time": "2019-08-13T23:13:51.760441Z",
     "start_time": "2019-08-13T23:13:51.757938Z"
    }
   },
   "outputs": [],
   "source": [
    "#create_df_bp(c_small_moldb100, [1, 5, 10], radius=1)"
   ]
  },
  {
   "cell_type": "code",
   "execution_count": null,
   "metadata": {},
   "outputs": [],
   "source": [
    "#create_df_bp(c_small_moldb200, [1, 5, 10], radius=1)"
   ]
  },
  {
   "cell_type": "code",
   "execution_count": null,
   "metadata": {},
   "outputs": [],
   "source": [
    "#create_df_bp(c_small_moldb500, [1, 5, 10], radius=1)"
   ]
  },
  {
   "cell_type": "code",
   "execution_count": null,
   "metadata": {
    "ExecuteTime": {
     "end_time": "2019-07-25T23:26:48.612300Z",
     "start_time": "2019-07-25T23:26:48.610036Z"
    }
   },
   "outputs": [],
   "source": [
    "#create_df_bp(c_small_moldb1000, [1, 5, 10], radius=1)"
   ]
  },
  {
   "cell_type": "markdown",
   "metadata": {},
   "source": [
    "***"
   ]
  },
  {
   "cell_type": "code",
   "execution_count": 29,
   "metadata": {
    "ExecuteTime": {
     "end_time": "2019-08-13T23:13:58.008528Z",
     "start_time": "2019-08-13T23:13:57.999312Z"
    }
   },
   "outputs": [],
   "source": [
    "def combine_8funcs(k):\n",
    "    # put 8 functions together for all sample sizes\n",
    "    k_100 = tanimoto_euclidean(c_small_moldb100, k, 1)\\\n",
    "    +tanimoto_cosine(c_small_moldb100, k, 1)\n",
    "    k_200 = tanimoto_euclidean(c_small_moldb200, k, 1)\\\n",
    "    +tanimoto_cosine(c_small_moldb200, k, 1)\n",
    "    k_500 = tanimoto_euclidean(c_small_moldb500, k, 1)\\\n",
    "        +tanimoto_cosine(c_small_moldb500, k, 1)\n",
    "    k_1000 = tanimoto_euclidean(c_small_moldb1000, k, 1)\\\n",
    "        +tanimoto_cosine(c_small_moldb1000, k, 1)\n",
    "    \n",
    "    return k_100, k_200, k_500, k_1000"
   ]
  },
  {
   "cell_type": "code",
   "execution_count": 30,
   "metadata": {
    "ExecuteTime": {
     "end_time": "2019-08-13T23:13:58.281662Z",
     "start_time": "2019-08-13T23:13:58.278111Z"
    }
   },
   "outputs": [],
   "source": [
    "# takes in a list of lists, returns a list of meds of all lists\n",
    "def med(lst):\n",
    "    med_lst = []\n",
    "    \n",
    "    for i in lst:\n",
    "        med = np.median(i)\n",
    "        med_lst.append(med)\n",
    "    \n",
    "    return med_lst"
   ]
  },
  {
   "cell_type": "code",
   "execution_count": 31,
   "metadata": {
    "ExecuteTime": {
     "end_time": "2019-08-13T23:13:58.914406Z",
     "start_time": "2019-08-13T23:13:58.908197Z"
    }
   },
   "outputs": [],
   "source": [
    "def create_df_line(lst, k):\n",
    "    cols = ['euclidean: gt vs dup', 'euclidean: gt vs uni',\n",
    "       'euclidean: gt vs avg_dup', 'euclidean: gt vs avg_uni', \n",
    "       'cosine: gt vs dup', 'consine: gt vs uni', \n",
    "       'cosine: gt vs avg_dup', 'cosine: gt vs avg_uni']\n",
    "    df = pd.DataFrame(lst, index=['100', '200', '500', '1000'], columns=cols)\n",
    "    line = df.plot.line(title=\"recall vs sample size: k=\"+str(k))\n",
    "    \n",
    "    return line"
   ]
  },
  {
   "cell_type": "code",
   "execution_count": null,
   "metadata": {
    "ExecuteTime": {
     "end_time": "2019-08-13T23:14:01.858334Z",
     "start_time": "2019-08-13T23:14:01.637295Z"
    }
   },
   "outputs": [],
   "source": [
    "ls = [':', '-', '--', '-.']\n",
    "fig, ax = plt.subplots()\n",
    "df.plot(y=0, kind='line', ax=ax, linestyle=ls[0], linewidth=1)\n",
    "df.plot(y=1, kind='line', ax=ax, linestyle=ls[0], linewidth=5)\n",
    "df.plot(y=2, kind='line', ax=ax, linestyle=ls[2], linewidth=3, alpha=0.5)\n",
    "df.plot(y=3, kind='line', ax=ax, linestyle=ls[3], linewidth=5, alpha=0.5)\n",
    "df.plot(y=4, kind='line', ax=ax, linestyle=ls[0], linewidth=7, alpha=0.5)\n",
    "df.plot(y=5, kind='line', ax=ax, linestyle=ls[2], alpha=0.3)\n",
    "df.plot(y=6, kind='line', ax=ax, linestyle=ls[2])\n",
    "df.plot(y=7, kind='line', ax=ax, linestyle=ls[3], linewidth=5, alpha=0.5)"
   ]
  },
  {
   "cell_type": "code",
   "execution_count": 33,
   "metadata": {
    "ExecuteTime": {
     "end_time": "2019-08-13T23:17:47.167924Z",
     "start_time": "2019-08-13T23:14:19.779931Z"
    }
   },
   "outputs": [],
   "source": [
    "lst = combine_8funcs(5)\n",
    "# find median\n",
    "k_5_100_m = med(lst[0])\n",
    "k_5_200_m = med(lst[1])\n",
    "k_5_500_m = med(lst[2])\n",
    "k_5_1000_m = med(lst[3])"
   ]
  },
  {
   "cell_type": "code",
   "execution_count": 35,
   "metadata": {
    "ExecuteTime": {
     "end_time": "2019-08-13T23:18:47.899764Z",
     "start_time": "2019-08-13T23:18:47.509739Z"
    }
   },
   "outputs": [
    {
     "data": {
      "text/plain": [
       "<matplotlib.axes._subplots.AxesSubplot at 0x7ff9f1d5e748>"
      ]
     },
     "execution_count": 35,
     "metadata": {},
     "output_type": "execute_result"
    },
    {
     "data": {
      "image/png": "[encoded data removed]",
      "text/plain": [
       "<Figure size 432x288 with 1 Axes>"
      ]
     },
     "metadata": {
      "needs_background": "light"
     },
     "output_type": "display_data"
    }
   ],
   "source": [
    "values_5 = [k_5_100_m, k_5_200_m, k_5_500_m, k_5_1000_m]\n",
    "create_df_line(values_5, 5)"
   ]
  },
  {
   "cell_type": "code",
   "execution_count": 36,
   "metadata": {
    "ExecuteTime": {
     "end_time": "2019-08-13T23:24:43.324439Z",
     "start_time": "2019-08-13T23:18:50.562856Z"
    }
   },
   "outputs": [],
   "source": [
    "lst_10 = combine_8funcs(10)\n",
    "# find median\n",
    "k_10_100_m = med(lst_10[0])\n",
    "k_10_200_m = med(lst_10[1])\n",
    "k_10_500_m = med(lst_10[2])\n",
    "k_10_1000_m = med(lst_10[3])"
   ]
  },
  {
   "cell_type": "code",
   "execution_count": 37,
   "metadata": {
    "ExecuteTime": {
     "end_time": "2019-08-13T23:25:02.625294Z",
     "start_time": "2019-08-13T23:25:02.143077Z"
    }
   },
   "outputs": [
    {
     "data": {
      "text/plain": [
       "<matplotlib.axes._subplots.AxesSubplot at 0x7ff9f1d3a550>"
      ]
     },
     "execution_count": 37,
     "metadata": {},
     "output_type": "execute_result"
    },
    {
     "data": {
      "image/png": "[encoded data removed]",
      "text/plain": [
       "<Figure size 432x288 with 1 Axes>"
      ]
     },
     "metadata": {
      "needs_background": "light"
     },
     "output_type": "display_data"
    }
   ],
   "source": [
    "values_10 = [k_10_100_m, k_10_200_m, k_10_500_m, k_10_1000_m]\n",
    "create_df_line(values_10, 10)"
   ]
  },
  {
   "cell_type": "markdown",
   "metadata": {},
   "source": [
    "***\n",
    "## Top 4 graphs"
   ]
  },
  {
   "cell_type": "code",
   "execution_count": 38,
   "metadata": {
    "ExecuteTime": {
     "end_time": "2019-08-13T23:25:10.015419Z",
     "start_time": "2019-08-13T23:25:10.000956Z"
    }
   },
   "outputs": [],
   "source": [
    "def tanimoto_euclidean_2(moldb, k, radius):\n",
    "    lst1, lst2 = [], []\n",
    "    query_size = 20\n",
    "    \n",
    "    for i in range(query_size):\n",
    "        gt_rankings = tanimoto_similarity(moldb, i)\n",
    "        #dup_rankings = mol2vec_euclidean_similarity(moldb, i, radius, mol2vec_duplicates)\n",
    "        uni_rankings = mol2vec_euclidean_similarity(moldb, i, radius, mol2vec_unique)\n",
    "        #avg_dup_rankings = mol2vec_euclidean_similarity(moldb, i, radius, mol2vec_average_dup)\n",
    "        avg_uni_rankings = mol2vec_euclidean_similarity(moldb, i, radius, mol2vec_average_uni)\n",
    "\n",
    "        lst1.append(compare_rankings_recall(gt_rankings, uni_rankings, k))\n",
    "        lst2.append(compare_rankings_recall(gt_rankings, avg_uni_rankings, k))\n",
    "    \n",
    "    return [lst1, lst2]"
   ]
  },
  {
   "cell_type": "code",
   "execution_count": 39,
   "metadata": {
    "ExecuteTime": {
     "end_time": "2019-08-13T23:25:10.568347Z",
     "start_time": "2019-08-13T23:25:10.562063Z"
    }
   },
   "outputs": [],
   "source": [
    "def tanimoto_cosine_2(moldb, k, radius):\n",
    "    lst1, lst2 = [], []\n",
    "    query_size = 20\n",
    "\n",
    "    for i in range(query_size):\n",
    "        gt_rankings = tanimoto_similarity(moldb, i)\n",
    "        #dup_rankings = mol2vec_cosine_similarity(moldb, i, radius, mol2vec_duplicates)\n",
    "        uni_rankings = mol2vec_cosine_similarity(moldb, i, radius, mol2vec_unique)\n",
    "        #avg_dup_rankings = mol2vec_cosine_similarity(moldb, i, radius, mol2vec_average_dup)\n",
    "        avg_uni_rankings = mol2vec_cosine_similarity(moldb, i, radius, mol2vec_average_uni)\n",
    "\n",
    "        lst1.append(compare_rankings_recall(gt_rankings, uni_rankings, k))\n",
    "        lst2.append(compare_rankings_recall(gt_rankings, avg_uni_rankings, k))\n",
    "    \n",
    "    return [lst1, lst2]"
   ]
  },
  {
   "cell_type": "code",
   "execution_count": 40,
   "metadata": {
    "ExecuteTime": {
     "end_time": "2019-08-13T23:28:49.057639Z",
     "start_time": "2019-08-13T23:25:11.381578Z"
    }
   },
   "outputs": [],
   "source": [
    "# k=10\n",
    "# put 8 functions together for all sample sizes\n",
    "k_10_100 = tanimoto_euclidean_2(c_small_moldb100, 10, 1)+tanimoto_cosine_2(c_small_moldb100, 10, 1)\n",
    "k_10_200 = tanimoto_euclidean_2(c_small_moldb200, 10, 1)+tanimoto_cosine_2(c_small_moldb200, 10, 1)\n",
    "k_10_500 = tanimoto_euclidean_2(c_small_moldb500, 10, 1)+tanimoto_cosine_2(c_small_moldb500, 10, 1)\n",
    "k_10_1000 = tanimoto_euclidean_2(c_small_moldb1000, 10, 1)+tanimoto_cosine_2(c_small_moldb1000, 10, 1)\n",
    "k_10_2000 = tanimoto_euclidean_2(c_small_moldb2000, 10, 1)+tanimoto_cosine_2(c_small_moldb2000, 10, 1)\n",
    "k_10_5000 = tanimoto_euclidean_2(c_small_moldb5000, 10, 1)+tanimoto_cosine_2(c_small_moldb5000, 10, 1)"
   ]
  },
  {
   "cell_type": "code",
   "execution_count": 42,
   "metadata": {
    "ExecuteTime": {
     "end_time": "2019-08-13T23:43:49.341943Z",
     "start_time": "2019-08-13T23:43:49.327942Z"
    }
   },
   "outputs": [],
   "source": [
    "# takes in a list of lists, returns a list of median of all lists\n",
    "def med(lst):\n",
    "    med_lst = []\n",
    "    \n",
    "    for i in lst:\n",
    "        med = np.median(i)\n",
    "        med_lst.append(med)\n",
    "    \n",
    "    return med_lst"
   ]
  },
  {
   "cell_type": "code",
   "execution_count": 43,
   "metadata": {
    "ExecuteTime": {
     "end_time": "2019-08-13T23:43:50.317297Z",
     "start_time": "2019-08-13T23:43:50.302413Z"
    }
   },
   "outputs": [],
   "source": [
    "# find median\n",
    "k_10_100_m = med(k_10_100)\n",
    "k_10_200_m = med(k_10_200)\n",
    "k_10_500_m = med(k_10_500)\n",
    "k_10_1000_m = med(k_10_1000)\n",
    "k_10_2000_m = med(k_10_2000)\n",
    "k_10_5000_m = med(k_10_5000)"
   ]
  },
  {
   "cell_type": "code",
   "execution_count": 45,
   "metadata": {
    "ExecuteTime": {
     "end_time": "2019-08-13T23:43:55.408469Z",
     "start_time": "2019-08-13T23:43:55.402267Z"
    }
   },
   "outputs": [],
   "source": [
    "# put into df\n",
    "values = [k_10_100_m, k_10_200_m, k_10_500_m, k_10_1000_m, k_10_2000_m, k_10_5000_m]\n",
    "cols = ['euclidean: gt vs uni', 'euclidean: gt vs avg_uni', \n",
    "       'cosine: gt vs uni', 'cosine: gt vs avg_uni']\n",
    "df = pd.DataFrame(values, index=['100', '200', '500', '1000', '2000', '5000'], columns=cols)"
   ]
  },
  {
   "cell_type": "code",
   "execution_count": 46,
   "metadata": {
    "ExecuteTime": {
     "end_time": "2019-08-13T23:43:57.597878Z",
     "start_time": "2019-08-13T23:43:57.211953Z"
    }
   },
   "outputs": [
    {
     "data": {
      "text/plain": [
       "<matplotlib.legend.Legend at 0x7ff9f20e4358>"
      ]
     },
     "execution_count": 46,
     "metadata": {},
     "output_type": "execute_result"
    },
    {
     "data": {
      "image/png": "[encoded data removed]",
      "text/plain": [
       "<Figure size 432x288 with 1 Axes>"
      ]
     },
     "metadata": {
      "needs_background": "light"
     },
     "output_type": "display_data"
    }
   ],
   "source": [
    "ls = [':', '-', '--', '-.']\n",
    "fig, ax = plt.subplots()\n",
    "df.plot(y=0, kind='line', ax=ax, linestyle=ls[1], linewidth=3, alpha=0.5)\n",
    "df.plot(y=1, kind='line', ax=ax, linestyle=ls[0], linewidth=3, alpha=0.6)\n",
    "df.plot(y=2, kind='line', ax=ax, linestyle=ls[2], linewidth=3, alpha=0.5)\n",
    "df.plot(y=3, kind='line', ax=ax, linestyle=ls[0], linewidth=3, alpha=0.5)\n",
    "plt.title('Top 4 distances: k=10')\n",
    "plt.legend(loc='lower right')"
   ]
  },
  {
   "cell_type": "code",
   "execution_count": null,
   "metadata": {},
   "outputs": [],
   "source": []
  }
 ],
 "metadata": {
  "kernelspec": {
   "display_name": "Python 3",
   "language": "python",
   "name": "python3"
  },
  "language_info": {
   "codemirror_mode": {
    "name": "ipython",
    "version": 3
   },
   "file_extension": ".py",
   "mimetype": "text/x-python",
   "name": "python",
   "nbconvert_exporter": "python",
   "pygments_lexer": "ipython3",
   "version": "3.7.3"
  }
 },
 "nbformat": 4,
 "nbformat_minor": 2
}
